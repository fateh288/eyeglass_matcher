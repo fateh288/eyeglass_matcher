{
 "cells": [
  {
   "cell_type": "code",
   "execution_count": 9,
   "metadata": {
    "collapsed": true
   },
   "outputs": [],
   "source": [
    "import numpy as np\n",
    "import pandas as pd\n",
    "\n",
    "\n",
    "csv_file = 'csv/lenskart_products_categorical.csv'\n",
    "\n",
    "df = pd.read_csv(csv_file,\n",
    "                 usecols=['product_id','parent_category',\n",
    "                          'frame_shape','encodings'],\n",
    "                 dtype={\"product_id\": np.int32,\n",
    "                        'parent_category':\"category\",\n",
    "                        'frame_shape':\"category\",\n",
    "                        'encodings': \"object\"})"
   ]
  },
  {
   "cell_type": "code",
   "execution_count": 10,
   "outputs": [
    {
     "name": "stdout",
     "output_type": "stream",
     "text": [
      "0    1637\n",
      "1    2183\n",
      "2    1750\n",
      "Name: parent_category, dtype: int64\n",
      "0     986\n",
      "1     466\n",
      "2    3395\n",
      "3     723\n",
      "Name: frame_shape, dtype: int64\n",
      "[1637 2183 1750]\n",
      "[ 986  466 3395  723]\n",
      "[1637 2183 1750  986  466 3395  723]\n",
      "[0.85305206 0.8040395  0.84290844 0.91149013 0.95816876 0.69524237\n",
      " 0.93509874]\n"
     ]
    }
   ],
   "source": [
    "pc_value_count = df[\"parent_category\"].value_counts(sort=False)\n",
    "fs_value_count = df[\"frame_shape\"].value_counts(sort=False)\n",
    "print(pc_value_count)\n",
    "print(fs_value_count)\n",
    "\n",
    "pc_value_count = pc_value_count.to_numpy()\n",
    "fs_value_count = fs_value_count.to_numpy()\n",
    "frequencies = np.concatenate((pc_value_count,fs_value_count))\n",
    "print(pc_value_count)\n",
    "print(fs_value_count)\n",
    "print(frequencies)\n",
    "sum = np.sum(frequencies)\n",
    "class_weights = (sum - frequencies)/sum\n",
    "print(class_weights)"
   ],
   "metadata": {
    "collapsed": false,
    "pycharm": {
     "name": "#%%\n"
    }
   }
  },
  {
   "cell_type": "code",
   "execution_count": 11,
   "outputs": [
    {
     "name": "stdout",
     "output_type": "stream",
     "text": [
      "{0: 0.8530520646319569, 1: 0.8040394973070017, 2: 0.8429084380610413, 3: 0.9114901256732495, 4: 0.9581687612208258, 5: 0.6952423698384201, 6: 0.9350987432675045}\n"
     ]
    }
   ],
   "source": [
    "class_weights_dict = dict(enumerate(class_weights, 0))\n",
    "print(class_weights_dict)"
   ],
   "metadata": {
    "collapsed": false,
    "pycharm": {
     "name": "#%%\n"
    }
   }
  },
  {
   "cell_type": "code",
   "execution_count": 12,
   "outputs": [
    {
     "name": "stdout",
     "output_type": "stream",
     "text": [
      "3883  is not string\n",
      "3877  is not string\n",
      "2631  is not string\n",
      "3565  is not string\n",
      "3863  is not string\n",
      "3879  is not string\n",
      "3861  is not string\n",
      "2794  is not string\n",
      "3873  is not string\n",
      "3878  is not string\n",
      "(4177, 3) (4177, 4)\n",
      "(1393, 3) (1393, 4)\n",
      "(4177, 7) (1393, 7)\n",
      "(4177, 128) (1393, 128)\n"
     ]
    }
   ],
   "source": [
    "from sklearn.model_selection import train_test_split\n",
    "import tensorflow as tf\n",
    "\n",
    "num_category = 3\n",
    "num_frame_shape = 4\n",
    "\n",
    "train_df, val_df = train_test_split(df, test_size=0.25)\n",
    "\n",
    "train_category_labels = np.array(train_df.pop('parent_category'))\n",
    "train_category_labels = tf.one_hot(train_category_labels,num_category)\n",
    "\n",
    "train_frame_labels = np.array(train_df.pop('frame_shape'))\n",
    "train_frame_labels = tf.one_hot(train_frame_labels,num_frame_shape)\n",
    "\n",
    "train_labels = np.concatenate((train_category_labels,train_frame_labels),axis=1)\n",
    "\n",
    "val_category_labels = np.array(val_df.pop('parent_category'))\n",
    "val_category_labels = tf.one_hot(val_category_labels,num_category)\n",
    "\n",
    "val_frame_labels = np.array(val_df.pop('frame_shape'))\n",
    "val_frame_labels = tf.one_hot(val_frame_labels,num_frame_shape)\n",
    "\n",
    "val_labels = np.concatenate((val_category_labels,val_frame_labels),axis=1)\n",
    "\n",
    "encoding_train_dataset = []\n",
    "# encoding_dataset.append(encoding_arr)\n",
    "for ind in train_df.index:\n",
    "    encoding_str = train_df[\"encodings\"][ind]\n",
    "    if(type(train_df[\"encodings\"][ind]) is not str):\n",
    "        encoding_train_dataset.append(np.ones(128)*9999999)\n",
    "        print(ind,\" is not string\")\n",
    "        continue\n",
    "    encoding_arr = np.fromstring(encoding_str[1:-1], dtype=np.float32, sep=' ')\n",
    "    #encoding = np.fromstring((df[\"encodings\"][ind])[1:-1], dtype=np.float32, sep=' ')\n",
    "    encoding_train_dataset.append(encoding_arr)\n",
    "\n",
    "encoding_val_dataset = []\n",
    "# encoding_dataset.append(encoding_arr)\n",
    "for ind in val_df.index:\n",
    "    encoding_str = val_df[\"encodings\"][ind]\n",
    "    if(type(val_df[\"encodings\"][ind]) is not str):\n",
    "        encoding_val_dataset.append(np.ones(128)*9999999)\n",
    "        print(ind,\" is not string\")\n",
    "        continue\n",
    "    encoding_arr = np.fromstring(encoding_str[1:-1], dtype=np.float32, sep=' ')\n",
    "    #encoding = np.fromstring((df[\"encodings\"][ind])[1:-1], dtype=np.float32, sep=' ')\n",
    "    encoding_val_dataset.append(encoding_arr)\n",
    "\n",
    "#train_features = np.array(train_df.pop('encodings'))\n",
    "#val_features = np.array(val_df.pop('encodings'))\n",
    "\n",
    "print(train_category_labels.shape,train_frame_labels.shape)\n",
    "print(val_category_labels.shape,val_frame_labels.shape)\n",
    "print(train_labels.shape,val_labels.shape)\n",
    "print(np.array(encoding_train_dataset).shape, np.array(encoding_val_dataset).shape)"
   ],
   "metadata": {
    "collapsed": false,
    "pycharm": {
     "name": "#%%\n"
    }
   }
  },
  {
   "cell_type": "code",
   "execution_count": 13,
   "outputs": [],
   "source": [
    "from sklearn.preprocessing import StandardScaler\n",
    "scaler = StandardScaler()\n",
    "scaler.fit(encoding_train_dataset)\n",
    "\n",
    "train_features = scaler.transform(encoding_train_dataset)\n",
    "val_features = scaler.transform(encoding_val_dataset)"
   ],
   "metadata": {
    "collapsed": false,
    "pycharm": {
     "name": "#%%\n"
    }
   }
  },
  {
   "cell_type": "code",
   "execution_count": 14,
   "outputs": [
    {
     "ename": "TypeError",
     "evalue": "hamming_loss_fn() missing 2 required positional arguments: 'y_true' and 'y_pred'",
     "output_type": "error",
     "traceback": [
      "\u001B[0;31m---------------------------------------------------------------------------\u001B[0m",
      "\u001B[0;31mTypeError\u001B[0m                                 Traceback (most recent call last)",
      "\u001B[0;32m<ipython-input-14-b18147ebd2f6>\u001B[0m in \u001B[0;36m<module>\u001B[0;34m\u001B[0m\n\u001B[1;32m     16\u001B[0m ])\n\u001B[1;32m     17\u001B[0m model.compile(optimizer=keras.optimizers.Adam(),\n\u001B[0;32m---> 18\u001B[0;31m               \u001B[0mloss\u001B[0m\u001B[0;34m=\u001B[0m\u001B[0mtfa\u001B[0m\u001B[0;34m.\u001B[0m\u001B[0mmetrics\u001B[0m\u001B[0;34m.\u001B[0m\u001B[0mhamming\u001B[0m\u001B[0;34m.\u001B[0m\u001B[0mhamming_loss_fn\u001B[0m\u001B[0;34m(\u001B[0m\u001B[0mmode\u001B[0m\u001B[0;34m=\u001B[0m\u001B[0;34m'multi-label'\u001B[0m\u001B[0;34m,\u001B[0m\u001B[0mthreshold\u001B[0m\u001B[0;34m=\u001B[0m\u001B[0;36m0.5\u001B[0m\u001B[0;34m)\u001B[0m\u001B[0;34m,\u001B[0m\u001B[0;34m\u001B[0m\u001B[0m\n\u001B[0m\u001B[1;32m     19\u001B[0m               metrics=['accuracy'])\n\u001B[1;32m     20\u001B[0m \u001B[0;34m\u001B[0m\u001B[0m\n",
      "\u001B[0;31mTypeError\u001B[0m: hamming_loss_fn() missing 2 required positional arguments: 'y_true' and 'y_pred'"
     ]
    }
   ],
   "source": [
    "import tensorflow as tf\n",
    "from tensorflow import keras\n",
    "import tensorflow_addons as tfa\n",
    "\n",
    "# metrics = [\n",
    "#     keras.metrics.BinaryAccuracy(name='accuracy'),\n",
    "#     keras.metrics.Precision(name='precision'),\n",
    "#     keras.metrics.Recall(name='recall')\n",
    "# ]\n",
    "\n",
    "model = keras.Sequential([\n",
    "    keras.layers.Dense(16, activation='relu',\n",
    "          input_shape=(train_features.shape[-1],)),\n",
    "    keras.layers.Dropout(0.5),\n",
    "    keras.layers.Dense(train_labels.shape[-1], activation='sigmoid')\n",
    "])\n",
    "model.compile(optimizer=keras.optimizers.Adam(),\n",
    "              loss=tfa.metrics.hamming.hamming_loss_fn(mode='multi-label',threshold=0.5),\n",
    "              metrics=['accuracy'])\n",
    "\n",
    "print(model.summary())"
   ],
   "metadata": {
    "collapsed": false,
    "pycharm": {
     "name": "#%%\n"
    }
   }
  },
  {
   "cell_type": "code",
   "execution_count": null,
   "outputs": [],
   "source": [
    "EPOCHS = 5000\n",
    "BATCH_SIZE = 128\n",
    "\n",
    "# early_stopping = tf.keras.callbacks.EarlyStopping(\n",
    "#     monitor='val_loss',\n",
    "#     verbose=1,\n",
    "#     patience=20,\n",
    "#     mode='min',\n",
    "#     restore_best_weights=True)"
   ],
   "metadata": {
    "collapsed": false,
    "pycharm": {
     "name": "#%%\n"
    }
   }
  },
  {
   "cell_type": "code",
   "execution_count": null,
   "outputs": [],
   "source": [
    "history = model.fit(train_features,\n",
    "          train_labels,\n",
    "          batch_size=BATCH_SIZE,\n",
    "          epochs=EPOCHS,\n",
    "                    validation_data=(val_features,val_labels),\n",
    "                    class_weight=class_weights_dict)\n",
    "\n",
    "model.save('saved_models_classifier/basic_attempt1')"
   ],
   "metadata": {
    "collapsed": false,
    "pycharm": {
     "name": "#%%\n"
    }
   }
  }
 ],
 "metadata": {
  "kernelspec": {
   "display_name": "Python 3",
   "language": "python",
   "name": "python3"
  },
  "language_info": {
   "codemirror_mode": {
    "name": "ipython",
    "version": 2
   },
   "file_extension": ".py",
   "mimetype": "text/x-python",
   "name": "python",
   "nbconvert_exporter": "python",
   "pygments_lexer": "ipython2",
   "version": "2.7.6"
  }
 },
 "nbformat": 4,
 "nbformat_minor": 0
}